{
 "cells": [
  {
   "cell_type": "code",
   "execution_count": 6,
   "metadata": {},
   "outputs": [],
   "source": [
    "# Imports.\n",
    "import sys, os\n",
    "sys.path.append('../../')\n",
    "\n",
    "from utils.utils import get_ground, rotmat2aa\n",
    "from psbody.mesh.colors import name_to_rgb\n",
    "from omegaconf import OmegaConf\n",
    "from psbody.mesh import Mesh\n",
    "import meshplot as mp\n",
    "import numpy as np\n",
    "import random\n",
    "import smplx\n",
    "import torch\n",
    "import mano\n",
    "\n",
    "random.seed(123)"
   ]
  },
  {
   "cell_type": "code",
   "execution_count": 3,
   "metadata": {},
   "outputs": [],
   "source": [
    "# Configurations (objects, receptacles, orientations, instances)\n",
    "grab_objs = ['binoculars', 'wineglass', 'toothpaste',\n",
    "             'fryingpan', 'elephant', 'apple', 'toothbrush',\n",
    "             'cylindersmall', 'train', 'spheresmall', 'stapler',\n",
    "             'waterbottle', 'pyramidlarge', 'hammer', 'phone', 'airplane',\n",
    "             'toruslarge', 'piggybank', 'alarmclock', 'pyramidmedium', 'mouse',\n",
    "             'headphones', 'cylinderlarge', 'spheremedium', 'stamp',\n",
    "             'cubesmall', 'stanfordbunny', 'torussmall', 'cubelarge', 'watch',\n",
    "             'spherelarge', 'duck', 'torusmedium', 'flute', 'flashlight',\n",
    "             'cubemedium', 'scissors', 'gamecontroller', 'teapot', 'banana',\n",
    "             'cylindermedium', 'knife', 'eyeglasses', 'pyramidsmall', 'lightbulb',\n",
    "             'bowl', 'camera', 'cup', 'mug', 'hand']\n",
    "receptacles = ['receptacle_aabb_Chr1_Top1_frl_apartment_chair_01', 'receptacle_aabb_Sofa_frl_apartment_sofa', 'receptacle_aabb_Tbl1_Top1_frl_apartment_table_01', 'receptacle_aabb_Tbl2_Top1_frl_apartment_table_02', 'receptacle_aabb_Tbl2_Top2_frl_apartment_table_02', 'receptacle_aabb_Tbl2_Top3_frl_apartment_table_02', 'receptacle_aabb_TvStnd1_Top1_frl_apartment_tvstand', 'receptacle_aabb_TvStnd1_Top2_frl_apartment_tvstand', 'receptacle_aabb_TvStnd1_Top3_frl_apartment_tvstand', 'receptacle_aabb_WC1_Top1frl_apartment_wall_cabinet_01', 'receptacle_aabb_WC1_Top2frl_apartment_wall_cabinet_01', 'receptacle_aabb_WC1_Top3frl_apartment_wall_cabinet_01', 'receptacle_aabb_WC1_Top4frl_apartment_wall_cabinet_01', 'receptacle_aabb_WC1_Top5frl_apartment_wall_cabinet_01', 'receptacle_aabb_WC1_Top6frl_apartment_wall_cabinet_01', 'receptacle_aabb_WC2_Top1_frl_apartment_wall_cabinet_02', 'receptacle_aabb_WC2_Top2_frl_apartment_wall_cabinet_02', 'receptacle_aabb_WC2_Top3_frl_apartment_wall_cabinet_02', 'receptacle_aabb_WC2_Top4_frl_apartment_wall_cabinet_02', 'receptacle_aabb_WC2_Top5_frl_apartment_wall_cabinet_02', 'receptacle_aabb_WC2_Top6_frl_apartment_wall_cabinet_02', 'receptacle_aabb_bottomfrl_apartment_refrigerator', 'receptacle_aabb_middle_bottomfrl_apartment_refrigerator', 'receptacle_aabb_middle_topfrl_apartment_refrigerator', 'receptacle_aabb_middlefrl_apartment_refrigerator', 'receptacle_aabb_topfrl_apartment_refrigerator', 'receptacle_aabb_shelf_center_bottom_left_kitchenCupboard_01', 'receptacle_aabb_shelf_center_bottom_right_kitchenCupboard_01', 'receptacle_aabb_shelf_center_middle_left_kitchenCupboard_01', 'receptacle_aabb_shelf_center_middle_right_kitchenCupboard_01', 'receptacle_aabb_shelf_center_top_left_kitchenCupboard_01', 'receptacle_aabb_shelf_center_top_right_kitchenCupboard_01', 'receptacle_aabb_shelf_left_bottom_kitchenCupboard_01', 'receptacle_aabb_shelf_left_middle_kitchenCupboard_01', 'receptacle_aabb_shelf_left_top_kitchenCupboard_01', 'receptacle_aabb_shelf_right_bottom_kitchenCupboard_01', 'receptacle_aabb_shelf_right_middle_kitchenCupboard_01', 'receptacle_aabb_shelf_right_top_kitchenCupboard_01', 'receptacle_aabb_counter_left_kitchen_counter', 'receptacle_aabb_counter_right_kitchen_counter', 'receptacle_aabb_drawer_left_bottom_frl_apartment_kitchen_counter', 'receptacle_aabb_drawer_left_top_frl_apartment_kitchen_counter', 'receptacle_aabb_drawer_middle_bottom_frl_apartment_kitchen_counter', 'receptacle_aabb_drawer_middle_middle_frl_apartment_kitchen_counter', 'receptacle_aabb_drawer_middle_top_frl_apartment_kitchen_counter', 'receptacle_aabb_drawer_right_bottom_frl_apartment_kitchen_counter', 'receptacle_aabb_drawer_right_top_frl_apartment_kitchen_counter', 'receptacle_aabb_sink_kitchen_counter']\n",
    "orients = ['up', 'all']\n",
    "idxs = list(range(2))\n",
    "\n",
    "# Load dataset.\n",
    "recept_dict = dict(np.load('dataset/replicagrasp/receptacles.npz', allow_pickle=1))\n",
    "dset_info_dict = dict(np.load('dataset/replicagrasp/dset_info.npz', allow_pickle=1))\n",
    "\n",
    "# Load mesh path.\n",
    "mesh_pth = 'dataset/contact_meshes/'"
   ]
  },
  {
   "cell_type": "code",
   "execution_count": 5,
   "metadata": {},
   "outputs": [
    {
     "name": "stdout",
     "output_type": "stream",
     "text": [
      "toothpaste all receptacle_aabb_bottomfrl_apartment_refrigerator 1\n"
     ]
    },
    {
     "data": {
      "application/vnd.jupyter.widget-view+json": {
       "model_id": "cade8df3599e4bf78e9dcd7d26aef91f",
       "version_major": 2,
       "version_minor": 0
      },
      "text/plain": [
       "Renderer(camera=PerspectiveCamera(children=(DirectionalLight(color='white', intensity=0.6, position=(-1.893849…"
      ]
     },
     "metadata": {},
     "output_type": "display_data"
    },
    {
     "name": "stdout",
     "output_type": "stream",
     "text": [
      "hammer all receptacle_aabb_Chr1_Top1_frl_apartment_chair_01 1\n"
     ]
    },
    {
     "data": {
      "application/vnd.jupyter.widget-view+json": {
       "model_id": "6913d1ad4e5e4498a6591f3090f751df",
       "version_major": 2,
       "version_minor": 0
      },
      "text/plain": [
       "Renderer(camera=PerspectiveCamera(children=(DirectionalLight(color='white', intensity=0.6, position=(3.1035507…"
      ]
     },
     "metadata": {},
     "output_type": "display_data"
    },
    {
     "name": "stdout",
     "output_type": "stream",
     "text": [
      "hand all receptacle_aabb_drawer_middle_middle_frl_apartment_kitchen_counter 1\n"
     ]
    },
    {
     "data": {
      "application/vnd.jupyter.widget-view+json": {
       "model_id": "eedd408f346b4d09974de8960190324d",
       "version_major": 2,
       "version_minor": 0
      },
      "text/plain": [
       "Renderer(camera=PerspectiveCamera(children=(DirectionalLight(color='white', intensity=0.6, position=(-1.957129…"
      ]
     },
     "metadata": {},
     "output_type": "display_data"
    },
    {
     "name": "stdout",
     "output_type": "stream",
     "text": [
      "flute all receptacle_aabb_middle_topfrl_apartment_refrigerator 0\n"
     ]
    },
    {
     "data": {
      "application/vnd.jupyter.widget-view+json": {
       "model_id": "4f6f536a7fa54910b6f233d5b341c2d3",
       "version_major": 2,
       "version_minor": 0
      },
      "text/plain": [
       "Renderer(camera=PerspectiveCamera(children=(DirectionalLight(color='white', intensity=0.6, position=(-1.893849…"
      ]
     },
     "metadata": {},
     "output_type": "display_data"
    },
    {
     "name": "stdout",
     "output_type": "stream",
     "text": [
      "mug up receptacle_aabb_drawer_right_top_frl_apartment_kitchen_counter 0\n"
     ]
    },
    {
     "data": {
      "application/vnd.jupyter.widget-view+json": {
       "model_id": "5463abbaa5074b7ab1aa53b588ad48ce",
       "version_major": 2,
       "version_minor": 0
      },
      "text/plain": [
       "Renderer(camera=PerspectiveCamera(children=(DirectionalLight(color='white', intensity=0.6, position=(-1.942931…"
      ]
     },
     "metadata": {},
     "output_type": "display_data"
    },
    {
     "name": "stdout",
     "output_type": "stream",
     "text": [
      "duck all receptacle_aabb_WC1_Top2frl_apartment_wall_cabinet_01 1\n"
     ]
    },
    {
     "data": {
      "application/vnd.jupyter.widget-view+json": {
       "model_id": "be2168d16d0d4720a5e25337e1e93d8c",
       "version_major": 2,
       "version_minor": 0
      },
      "text/plain": [
       "Renderer(camera=PerspectiveCamera(children=(DirectionalLight(color='white', intensity=0.6, position=(0.6570791…"
      ]
     },
     "metadata": {},
     "output_type": "display_data"
    },
    {
     "name": "stdout",
     "output_type": "stream",
     "text": [
      "headphones all receptacle_aabb_Tbl2_Top2_frl_apartment_table_02 1\n"
     ]
    },
    {
     "data": {
      "application/vnd.jupyter.widget-view+json": {
       "model_id": "40e3c33969bb4959b8fdd30f65f2cf0f",
       "version_major": 2,
       "version_minor": 0
      },
      "text/plain": [
       "Renderer(camera=PerspectiveCamera(children=(DirectionalLight(color='white', intensity=0.6, position=(-0.079229…"
      ]
     },
     "metadata": {},
     "output_type": "display_data"
    },
    {
     "name": "stdout",
     "output_type": "stream",
     "text": [
      "stamp all receptacle_aabb_Sofa_frl_apartment_sofa 0\n"
     ]
    },
    {
     "data": {
      "application/vnd.jupyter.widget-view+json": {
       "model_id": "6c674a39af81429cbba7d7cf7781d307",
       "version_major": 2,
       "version_minor": 0
      },
      "text/plain": [
       "Renderer(camera=PerspectiveCamera(children=(DirectionalLight(color='white', intensity=0.6, position=(2.9101185…"
      ]
     },
     "metadata": {},
     "output_type": "display_data"
    },
    {
     "name": "stdout",
     "output_type": "stream",
     "text": [
      "gamecontroller up receptacle_aabb_drawer_left_bottom_frl_apartment_kitchen_counter 1\n"
     ]
    },
    {
     "data": {
      "application/vnd.jupyter.widget-view+json": {
       "model_id": "26a138c6d4c94290aadd7a1039ee5bf9",
       "version_major": 2,
       "version_minor": 0
      },
      "text/plain": [
       "Renderer(camera=PerspectiveCamera(children=(DirectionalLight(color='white', intensity=0.6, position=(-1.942700…"
      ]
     },
     "metadata": {},
     "output_type": "display_data"
    },
    {
     "name": "stdout",
     "output_type": "stream",
     "text": [
      "binoculars all receptacle_aabb_WC1_Top6frl_apartment_wall_cabinet_01 1\n"
     ]
    },
    {
     "data": {
      "application/vnd.jupyter.widget-view+json": {
       "model_id": "27f67e029f9e4d7d8079f0b857353dff",
       "version_major": 2,
       "version_minor": 0
      },
      "text/plain": [
       "Renderer(camera=PerspectiveCamera(children=(DirectionalLight(color='white', intensity=0.6, position=(0.6570791…"
      ]
     },
     "metadata": {},
     "output_type": "display_data"
    },
    {
     "name": "stdout",
     "output_type": "stream",
     "text": [
      "Done!\n"
     ]
    }
   ],
   "source": [
    "i = 0\n",
    "while i < 10:\n",
    "    \n",
    "    # ---> Load data.\n",
    "    obj_name, ornt, recept, ind = random.choice(grab_objs), random.choice(orients), random.choice(receptacles), random.choice(idxs)\n",
    "    print(obj_name, ornt, recept, ind)    \n",
    "    transl_grab, orient_grab, recept_idx = dset_info_dict[f'{obj_name}_{recept}_{ornt}_{ind}']\n",
    "    recept_v, recept_f = recept_dict[recept][recept_idx][0], recept_dict[recept][recept_idx][1]\n",
    "\n",
    "    # ---> Visualize receptacle meshes in scene.\n",
    "    mp_viewer = mp.plot(recept_v, recept_f, name_to_rgb['yellow'])\n",
    "\n",
    "    # ---> Visualize ground for context (center it to mean of rigid/articulated object).\n",
    "    grnd_mesh = get_ground(grnd_size=10, offset=0.0)\n",
    "    xmean, ymean, _ = recept_v.mean(0)\n",
    "    grnd_mesh.v[:, 0] += xmean\n",
    "    grnd_mesh.v[:, 1] += ymean\n",
    "    mp_viewer.add_mesh(grnd_mesh.v, grnd_mesh.f, name_to_rgb['brown'])\n",
    "\n",
    "    # ---> Visualize object to be grasped in scene.\n",
    "    object_mesh = Mesh(filename=os.path.join(mesh_pth, obj_name + '.ply'), vscale=1.)\n",
    "    obj_verts = np.matmul(object_mesh.v, orient_grab.T) + transl_grab\n",
    "    mp_viewer.add_mesh(obj_verts, object_mesh.f, name_to_rgb['blue'])\n",
    "    \n",
    "    i += 1\n",
    "\n",
    "print(\"Done!\")"
   ]
  }
 ],
 "metadata": {
  "kernelspec": {
   "display_name": "grasp_conda",
   "language": "python",
   "name": "python3"
  },
  "language_info": {
   "codemirror_mode": {
    "name": "ipython",
    "version": 3
   },
   "file_extension": ".py",
   "mimetype": "text/x-python",
   "name": "python",
   "nbconvert_exporter": "python",
   "pygments_lexer": "ipython3",
   "version": "3.8.16"
  },
  "orig_nbformat": 4
 },
 "nbformat": 4,
 "nbformat_minor": 2
}
